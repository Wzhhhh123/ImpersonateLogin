{
 "cells": [
  {
   "cell_type": "code",
   "execution_count": 1,
   "id": "cc469ebf",
   "metadata": {},
   "outputs": [],
   "source": [
    "from selenium import webdriver\n",
    "import os\n",
    "from time import sleep\n",
    "from selenium.webdriver.common.by import By\n",
    "from aip import AipOcr\n",
    "driver = webdriver.Firefox()"
   ]
  },
  {
   "cell_type": "code",
   "execution_count": 36,
   "id": "4d25be4a",
   "metadata": {
    "scrolled": true
   },
   "outputs": [
    {
     "name": "stdout",
     "output_type": "stream",
     "text": [
      "请输入账号2019160053\n",
      "请输入密码Wzh010310*\n"
     ]
    },
    {
     "name": "stderr",
     "output_type": "stream",
     "text": [
      "C:\\Users\\WZHDEY~1\\AppData\\Local\\Temp/ipykernel_8832/1366316849.py:43: DeprecationWarning: find_element_by_* commands are deprecated. Please use find_element() instead\n",
      "  ele = driver.find_element_by_id('codeImage')\n"
     ]
    },
    {
     "name": "stdout",
     "output_type": "stream",
     "text": [
      "4349\n",
      "识别完成。\n"
     ]
    },
    {
     "name": "stderr",
     "output_type": "stream",
     "text": [
      "C:\\Users\\WZHDEY~1\\AppData\\Local\\Temp/ipykernel_8832/1366316849.py:50: DeprecationWarning: find_element_by_* commands are deprecated. Please use find_element() instead\n",
      "  driver.find_element_by_id(\"un\").send_keys(haooo)\n",
      "C:\\Users\\WZHDEY~1\\AppData\\Local\\Temp/ipykernel_8832/1366316849.py:51: DeprecationWarning: find_element_by_* commands are deprecated. Please use find_element() instead\n",
      "  driver.find_element_by_id(\"pd\").send_keys(pwddd)\n",
      "C:\\Users\\WZHDEY~1\\AppData\\Local\\Temp/ipykernel_8832/1366316849.py:52: DeprecationWarning: find_element_by_* commands are deprecated. Please use find_element() instead\n",
      "  driver.find_element_by_id(\"code\").send_keys(coded)\n"
     ]
    }
   ],
   "source": [
    "driver.get(\"https://edu.cppu.net/index.html\")\n",
    "#xxx=input()\n",
    "#alist=xxx.split(\" \")\n",
    "#haooo=alist[0]\n",
    "driver.get(\"https://sso-jw.cppu.edu.cn/tpass/login?service=https%3A%2F%2Fjw.cppu.edu.cn%2Fje\")\n",
    "haooo=input(\"请输入账号\")\n",
    "pwddd=input(\"请输入密码\")\n",
    "#pwddd=alist[1]\n",
    "\"\"\" API \"\"\"\n",
    "APP_ID = '24271648'\n",
    "API_KEY = 'DXEs9yYGu7u0lKGz3ihaYX34'\n",
    "SECRET_KEY = 'eDUCr3OnnRomzCzoTuVFX4sgDc7NXCmS'\n",
    "\n",
    "# 初始化AipFace对象\n",
    "client = AipOcr(APP_ID, API_KEY, SECRET_KEY)\n",
    "\n",
    "\"\"\" 读取图片 \"\"\"\n",
    "def get_file_content(filePath):\n",
    "    with open(filePath, 'rb') as fp:\n",
    "        return fp.read()\n",
    "\n",
    "def img_to_str(image_path):\n",
    "\n",
    "    \"\"\" 可选参数 \"\"\"\n",
    "    options = {}\n",
    "    options[\"language_type\"] = \"CHN_ENG\"  # 中英文混合\n",
    "    options[\"detect_direction\"] = \"true\"  # 检测朝向\n",
    "    options[\"detect_language\"] = \"true\"  # 是否检测语言\n",
    "    options[\"probability\"] = \"false\"  # 是否返回识别结果中每一行的置信度\n",
    "\n",
    "    image = get_file_content(image_path)\n",
    "\n",
    "    \"\"\" 带参数调用通用文字识别 \"\"\"\n",
    "    result = client.basicGeneral(get_file_content(filePath), options)\n",
    "\n",
    "    # 格式化输出-提取需要的部分\n",
    "    if 'words_result' in result:\n",
    "        text = ('\\n'.join([w['words'] for w in result['words_result']]))\n",
    "    \n",
    "    return text\n",
    "\n",
    "ele = driver.find_element_by_id('codeImage')\n",
    "ele.screenshot('ele.png')\n",
    "if __name__ == '__main__':\n",
    "        filePath = 'ele.png'\n",
    "        print(img_to_str('ele.png'))\n",
    "        coded=img_to_str('ele.png')\n",
    "        print(\"识别完成。\")\n",
    "driver.find_element_by_id(\"un\").send_keys(haooo)\n",
    "driver.find_element_by_id(\"pd\").send_keys(pwddd)\n",
    "driver.find_element_by_id(\"code\").send_keys(coded)\n",
    "\n",
    "driver.find_element(By.XPATH,\"/html/body/form/div[3]/div[2]/div/div[3]/span/input\").click()\n",
    "sleep(2)\n",
    "#进入评教页面\n",
    "driver.get(\"https://jw.cppu.edu.cn/cpmis_je/app/cpgl/jgcp/xscp/xscpXz.jsp?hdkzid=DC31074D87932FE7E0530100007FDF30&flid=2c9e819078388b440178589fc43f0002&xnxq=20212022-2&hdkzflid=DC5EF6B6DCD57647E0530100007FD1B4&pjfs=05&cpjssj=2022-07-02%2009:00###\")"
   ]
  },
  {
   "cell_type": "code",
   "execution_count": 5,
   "id": "2741df7a",
   "metadata": {},
   "outputs": [],
   "source": [
    "#记录答案\n",
    "daan1=[4,1,3,1,1,1,1,2,1,1,1,1,1,4,1,3,1,2,1,1,1,1,1,1,7,1]\n",
    "daan2=[4,1,3,1,1,1,1,2,1,1,1,1,1,1,1,1,2,1,1,1,3,1,1,1,1,1,1,7,1]\n",
    "#41311112111114131311111181"
   ]
  },
  {
   "cell_type": "code",
   "execution_count": 27,
   "id": "2e3fc7bf",
   "metadata": {},
   "outputs": [
    {
     "name": "stdout",
     "output_type": "stream",
     "text": [
      "\n",
      "理论\n",
      "理论\n",
      "理论\n",
      "理论\n",
      "理论\n",
      "实践及实训\n",
      "实践及实训\n",
      "实践及实训\n",
      "实践及实训\n",
      "理论\n",
      "理论\n",
      "理论\n",
      "理论\n",
      "理论\n"
     ]
    }
   ],
   "source": [
    "#筛选课程类型并记录其xpath，方便下面自动评教\n",
    "type_ke_li=[]\n",
    "type_ke_shi=[]\n",
    "for i in range(20):\n",
    "    try:\n",
    "        \n",
    "        i=i+1\n",
    "        print(driver.find_element(By.XPATH,\"/html/body/div[3]/div/div/div[3]/div[3]/div/table/tbody/tr[\"+str(i)+\"]/td[6]\").text)\n",
    "        type_text=driver.find_element(By.XPATH,\"/html/body/div[3]/div/div/div[3]/div[3]/div/table/tbody/tr[\"+str(i)+\"]/td[6]\").text\n",
    "        type_kee=\"/html/body/div[3]/div/div/div[3]/div[3]/div/table/tbody/tr[\"+str(i)+\"]/td[18]/a\"\n",
    "        if (type_text==\"理论\"):\n",
    "            type_ke_li.append(type_kee)\n",
    "        if (type_text==\"实践及实训\"):\n",
    "            type_ke_shi.append(type_kee)\n",
    "        \n",
    "    except:\n",
    "        i=i+1\n",
    "        "
   ]
  },
  {
   "cell_type": "code",
   "execution_count": 29,
   "id": "18e8dfdc",
   "metadata": {},
   "outputs": [],
   "source": [
    "#自动刷\n",
    "ii=0\n",
    "for kj in range(len(type_ke_li)):\n",
    "    #find_element(By.XPATH,'//span')\n",
    "    driver.find_element(By.XPATH,type_ke_li[int(ii)]).click()#点击开始\n",
    "    ii=ii + 1\n",
    "    sleep(1.5)\n",
    "    try:\n",
    "        dx=driver.find_element(By.XPATH,'//*[@id=\"lhgfrm\"]') #先使用css选择器、xpath、class name等为对象\n",
    "        driver.switch_to.frame(driver.find_element(By.XPATH,'//*[@id=\"lhgfrm\"]'))\n",
    "        \n",
    "    except:\n",
    "        try:\n",
    "            dx=driver.find_element(By.XPATH,'//*[@id=\"lhgfrm\"]') #先使用css选择器、xpath、class name等为对象\n",
    "            driver.switch_to.frame(driver.find_element(By.XPATH,'//*[@id=\"lhgfrm\"]'))\n",
    "        except:\n",
    "            continue\n",
    "    pp=1\n",
    "    yy=1\n",
    "    for i in range(38):\n",
    "            try:\n",
    "\n",
    "                try:\n",
    "                    \n",
    "\n",
    "                    driver.find_element(By.XPATH,\"/html/body/form/div/table[1]/tbody/tr[\"+str(pp)+\"]/td/input[\"+str(daan1[yy-1])+\"]\").click()\n",
    "                    pp = pp + 1\n",
    "                    yy = yy + 1\n",
    "                except:\n",
    "                    pp = pp + 1\n",
    "            except:\n",
    "                print(\"评完了\")\n",
    "    driver.switch_to.default_content()\n",
    "    sleep(1)\n",
    "    driver.find_element(By.XPATH,\"/html/body/div[8]/table/tbody/tr[2]/td[2]/table/tbody/tr[2]/td/div/div[1]/div/input\").click()\n",
    "    sleep(1)\n",
    "    driver.find_element(By.XPATH,\"/html/body/div[9]/table/tbody/tr[2]/td[2]/table/tbody/tr[2]/td/div/div/div/input\").click()\n",
    "    sleep(2)\n",
    "ii=0\n",
    "sleep(2)\n",
    "for kj in range(len(type_ke_shi)):\n",
    "    driver.find_element(By.XPATH,type_ke_shi[int(ii)]).click()#点击开始\n",
    "    ii=ii + 1\n",
    "    sleep(1)\n",
    "    try:\n",
    "        dx=driver.find_element(By.XPATH,'//*[@id=\"lhgfrm\"]') #先使用css选择器、xpath、class name等为对象\n",
    "        driver.switch_to.frame(driver.find_element(By.XPATH,'//*[@id=\"lhgfrm\"]'))\n",
    "    except:\n",
    "        try:\n",
    "            dx=driver.find_element(By.XPATH,'//*[@id=\"lhgfrm\"]') #先使用css选择器、xpath、class name等为对象\n",
    "            driver.switch_to.frame(driver.find_element(By.XPATH,'//*[@id=\"lhgfrm\"]'))\n",
    "        except:\n",
    "            continue\n",
    "    pp=1\n",
    "    yy=1\n",
    "    for i in range(38):\n",
    "            try:\n",
    "\n",
    "                try:\n",
    "                    \n",
    "\n",
    "                    driver.find_element(By.XPATH,\"/html/body/form/div/table[1]/tbody/tr[\"+str(pp)+\"]/td/input[\"+str(daan2[yy-1])+\"]\").click()\n",
    "                    pp = pp + 1\n",
    "                    yy = yy + 1\n",
    "                except:\n",
    "                    pp = pp + 1\n",
    "            except:\n",
    "                print(\"评完了\")\n",
    "    driver.switch_to.default_content()\n",
    "    sleep(1)\n",
    "    driver.find_element(By.XPATH,\"/html/body/div[8]/table/tbody/tr[2]/td[2]/table/tbody/tr[2]/td/div/div[1]/div/input\").click()\n",
    "    sleep(1)\n",
    "    driver.find_element(By.XPATH,\"/html/body/div[9]/table/tbody/tr[2]/td[2]/table/tbody/tr[2]/td/div/div/div/input\").click()\n",
    "    sleep(3)"
   ]
  },
  {
   "cell_type": "code",
   "execution_count": 16,
   "id": "74f6229b",
   "metadata": {},
   "outputs": [
    {
     "name": "stderr",
     "output_type": "stream",
     "text": [
      "C:\\Users\\WZHDEY~1\\AppData\\Local\\Temp/ipykernel_8832/148960038.py:4: DeprecationWarning: find_element_by_* commands are deprecated. Please use find_element() instead\n",
      "  driver.find_element_by_xpath(type_ke_shi[int(ii)]).click()#点击开始\n",
      "C:\\Users\\WZHDEY~1\\AppData\\Local\\Temp/ipykernel_8832/148960038.py:8: DeprecationWarning: find_element_by_* commands are deprecated. Please use find_element() instead\n",
      "  dx=driver.find_element_by_xpath('//*[@id=\"lhgfrm\"]') #先使用css选择器、xpath、class name等为对象\n",
      "C:\\Users\\WZHDEY~1\\AppData\\Local\\Temp/ipykernel_8832/148960038.py:9: DeprecationWarning: find_element_by_* commands are deprecated. Please use find_element() instead\n",
      "  driver.switch_to.frame(driver.find_element_by_xpath('//*[@id=\"lhgfrm\"]'))\n",
      "C:\\Users\\WZHDEY~1\\AppData\\Local\\Temp/ipykernel_8832/148960038.py:24: DeprecationWarning: find_element_by_* commands are deprecated. Please use find_element() instead\n",
      "  driver.find_element_by_xpath(\"/html/body/form/div/table[1]/tbody/tr[\"+str(pp)+\"]/td/input[\"+str(daan2[yy-1])+\"]\").click()\n",
      "C:\\Users\\WZHDEY~1\\AppData\\Local\\Temp/ipykernel_8832/148960038.py:33: DeprecationWarning: find_element_by_* commands are deprecated. Please use find_element() instead\n",
      "  driver.find_element_by_xpath(\"/html/body/div[8]/table/tbody/tr[2]/td[2]/table/tbody/tr[2]/td/div/div[1]/div/input\").click()\n",
      "C:\\Users\\WZHDEY~1\\AppData\\Local\\Temp/ipykernel_8832/148960038.py:35: DeprecationWarning: find_element_by_* commands are deprecated. Please use find_element() instead\n",
      "  driver.find_element_by_xpath(\"/html/body/div[9]/table/tbody/tr[2]/td[2]/table/tbody/tr[2]/td/div/div/div/input\").click()\n"
     ]
    },
    {
     "ename": "IndexError",
     "evalue": "list index out of range",
     "output_type": "error",
     "traceback": [
      "\u001b[1;31m---------------------------------------------------------------------------\u001b[0m",
      "\u001b[1;31mIndexError\u001b[0m                                Traceback (most recent call last)",
      "\u001b[1;32mC:\\Users\\WZHDEY~1\\AppData\\Local\\Temp/ipykernel_8832/148960038.py\u001b[0m in \u001b[0;36m<module>\u001b[1;34m\u001b[0m\n\u001b[0;32m      2\u001b[0m \u001b[0mii\u001b[0m\u001b[1;33m=\u001b[0m\u001b[1;36m0\u001b[0m\u001b[1;33m\u001b[0m\u001b[1;33m\u001b[0m\u001b[0m\n\u001b[0;32m      3\u001b[0m \u001b[1;32mfor\u001b[0m \u001b[0mkj\u001b[0m \u001b[1;32min\u001b[0m \u001b[0mrange\u001b[0m\u001b[1;33m(\u001b[0m\u001b[1;36m100\u001b[0m\u001b[1;33m)\u001b[0m\u001b[1;33m:\u001b[0m\u001b[1;33m\u001b[0m\u001b[1;33m\u001b[0m\u001b[0m\n\u001b[1;32m----> 4\u001b[1;33m     \u001b[0mdriver\u001b[0m\u001b[1;33m.\u001b[0m\u001b[0mfind_element_by_xpath\u001b[0m\u001b[1;33m(\u001b[0m\u001b[0mtype_ke_shi\u001b[0m\u001b[1;33m[\u001b[0m\u001b[0mint\u001b[0m\u001b[1;33m(\u001b[0m\u001b[0mii\u001b[0m\u001b[1;33m)\u001b[0m\u001b[1;33m]\u001b[0m\u001b[1;33m)\u001b[0m\u001b[1;33m.\u001b[0m\u001b[0mclick\u001b[0m\u001b[1;33m(\u001b[0m\u001b[1;33m)\u001b[0m\u001b[1;31m#点击开始\u001b[0m\u001b[1;33m\u001b[0m\u001b[1;33m\u001b[0m\u001b[0m\n\u001b[0m\u001b[0;32m      5\u001b[0m     \u001b[0mii\u001b[0m\u001b[1;33m=\u001b[0m\u001b[0mii\u001b[0m \u001b[1;33m+\u001b[0m \u001b[1;36m1\u001b[0m\u001b[1;33m\u001b[0m\u001b[1;33m\u001b[0m\u001b[0m\n\u001b[0;32m      6\u001b[0m     \u001b[0msleep\u001b[0m\u001b[1;33m(\u001b[0m\u001b[1;36m2\u001b[0m\u001b[1;33m)\u001b[0m\u001b[1;33m\u001b[0m\u001b[1;33m\u001b[0m\u001b[0m\n",
      "\u001b[1;31mIndexError\u001b[0m: list index out of range"
     ]
    }
   ],
   "source": [
    "#自动刷实践类型\n",
    "ii=0\n",
    "for kj in range(100):\n",
    "    driver.find_element_by_xpath(type_ke_shi[int(ii)]).click()#点击开始\n",
    "    ii=ii + 1\n",
    "    sleep(2)\n",
    "    try:\n",
    "        dx=driver.find_element_by_xpath('//*[@id=\"lhgfrm\"]') #先使用css选择器、xpath、class name等为对象\n",
    "        driver.switch_to.frame(driver.find_element_by_xpath('//*[@id=\"lhgfrm\"]'))\n",
    "    except:\n",
    "        try:\n",
    "            dx=driver.find_element_by_xpath('//*[@id=\"lhgfrm\"]') #先使用css选择器、xpath、class name等为对象\n",
    "            driver.switch_to.frame(driver.find_element_by_xpath('//*[@id=\"lhgfrm\"]'))\n",
    "        except:\n",
    "            continue\n",
    "    pp=1\n",
    "    yy=1\n",
    "    for i in range(38):\n",
    "            try:\n",
    "\n",
    "                try:\n",
    "                    \n",
    "\n",
    "                    driver.find_element_by_xpath(\"/html/body/form/div/table[1]/tbody/tr[\"+str(pp)+\"]/td/input[\"+str(daan2[yy-1])+\"]\").click()\n",
    "                    pp = pp + 1\n",
    "                    yy = yy + 1\n",
    "                except:\n",
    "                    pp = pp + 1\n",
    "            except:\n",
    "                print(\"评完了\")\n",
    "    driver.switch_to.default_content()\n",
    "    sleep(1)\n",
    "    driver.find_element_by_xpath(\"/html/body/div[8]/table/tbody/tr[2]/td[2]/table/tbody/tr[2]/td/div/div[1]/div/input\").click()\n",
    "    sleep(1)\n",
    "    driver.find_element_by_xpath(\"/html/body/div[9]/table/tbody/tr[2]/td[2]/table/tbody/tr[2]/td/div/div/div/input\").click()\n",
    "    sleep(3)\n",
    "    "
   ]
  },
  {
   "cell_type": "code",
   "execution_count": 13,
   "id": "bb0efae8",
   "metadata": {
    "scrolled": true
   },
   "outputs": [
    {
     "name": "stderr",
     "output_type": "stream",
     "text": [
      "C:\\Users\\WZHDEY~1\\AppData\\Local\\Temp/ipykernel_8832/75315674.py:5: DeprecationWarning: find_element_by_* commands are deprecated. Please use find_element() instead\n",
      "  dx=driver.find_element_by_xpath('//*[@id=\"lhgfrm\"]') #先使用css选择器、xpath、class name等为对象\n",
      "C:\\Users\\WZHDEY~1\\AppData\\Local\\Temp/ipykernel_8832/75315674.py:6: DeprecationWarning: find_element_by_* commands are deprecated. Please use find_element() instead\n",
      "  driver.switch_to.frame(driver.find_element_by_xpath('//*[@id=\"lhgfrm\"]'))\n",
      "C:\\Users\\WZHDEY~1\\AppData\\Local\\Temp/ipykernel_8832/75315674.py:16: DeprecationWarning: find_element_by_* commands are deprecated. Please use find_element() instead\n",
      "  driver.find_element_by_xpath(\"/html/body/form/div/table[1]/tbody/tr[\"+str(pp)+\"]/td/input[\"+str(daan1[yy-1])+\"]\").click()\n",
      "C:\\Users\\WZHDEY~1\\AppData\\Local\\Temp/ipykernel_8832/75315674.py:25: DeprecationWarning: find_element_by_* commands are deprecated. Please use find_element() instead\n",
      "  driver.find_element_by_xpath(\"/html/body/div[8]/table/tbody/tr[2]/td[2]/table/tbody/tr[2]/td/div/div[1]/div/input\").click()\n"
     ]
    },
    {
     "ename": "KeyboardInterrupt",
     "evalue": "Interrupted by user",
     "output_type": "error",
     "traceback": [
      "\u001b[1;31m---------------------------------------------------------------------------\u001b[0m",
      "\u001b[1;31mKeyboardInterrupt\u001b[0m                         Traceback (most recent call last)",
      "\u001b[1;32mC:\\Users\\WZHDEY~1\\AppData\\Local\\Temp/ipykernel_8832/75315674.py\u001b[0m in \u001b[0;36m<module>\u001b[1;34m\u001b[0m\n\u001b[0;32m     25\u001b[0m     \u001b[0mdriver\u001b[0m\u001b[1;33m.\u001b[0m\u001b[0mfind_element_by_xpath\u001b[0m\u001b[1;33m(\u001b[0m\u001b[1;34m\"/html/body/div[8]/table/tbody/tr[2]/td[2]/table/tbody/tr[2]/td/div/div[1]/div/input\"\u001b[0m\u001b[1;33m)\u001b[0m\u001b[1;33m.\u001b[0m\u001b[0mclick\u001b[0m\u001b[1;33m(\u001b[0m\u001b[1;33m)\u001b[0m\u001b[1;33m\u001b[0m\u001b[1;33m\u001b[0m\u001b[0m\n\u001b[0;32m     26\u001b[0m     \u001b[0msleep\u001b[0m\u001b[1;33m(\u001b[0m\u001b[1;36m1\u001b[0m\u001b[1;33m)\u001b[0m\u001b[1;33m\u001b[0m\u001b[1;33m\u001b[0m\u001b[0m\n\u001b[1;32m---> 27\u001b[1;33m     \u001b[0maaaaa\u001b[0m\u001b[1;33m=\u001b[0m\u001b[0minput\u001b[0m\u001b[1;33m(\u001b[0m\u001b[1;33m)\u001b[0m\u001b[1;33m\u001b[0m\u001b[1;33m\u001b[0m\u001b[0m\n\u001b[0m\u001b[0;32m     28\u001b[0m \u001b[1;31m#手动点击下一个需要刷的课程的评价按钮\u001b[0m\u001b[1;33m\u001b[0m\u001b[1;33m\u001b[0m\u001b[1;33m\u001b[0m\u001b[0m\n\u001b[0;32m     29\u001b[0m \u001b[1;31m#之后再回车可运行下一次\u001b[0m\u001b[1;33m\u001b[0m\u001b[1;33m\u001b[0m\u001b[1;33m\u001b[0m\u001b[0m\n",
      "\u001b[1;32mc:\\users\\wzh de y7000\\appdata\\local\\programs\\python\\python39\\lib\\site-packages\\ipykernel\\kernelbase.py\u001b[0m in \u001b[0;36mraw_input\u001b[1;34m(self, prompt)\u001b[0m\n\u001b[0;32m   1005\u001b[0m                 \u001b[1;34m\"raw_input was called, but this frontend does not support input requests.\"\u001b[0m\u001b[1;33m\u001b[0m\u001b[1;33m\u001b[0m\u001b[0m\n\u001b[0;32m   1006\u001b[0m             )\n\u001b[1;32m-> 1007\u001b[1;33m         return self._input_request(\n\u001b[0m\u001b[0;32m   1008\u001b[0m             \u001b[0mstr\u001b[0m\u001b[1;33m(\u001b[0m\u001b[0mprompt\u001b[0m\u001b[1;33m)\u001b[0m\u001b[1;33m,\u001b[0m\u001b[1;33m\u001b[0m\u001b[1;33m\u001b[0m\u001b[0m\n\u001b[0;32m   1009\u001b[0m             \u001b[0mself\u001b[0m\u001b[1;33m.\u001b[0m\u001b[0m_parent_ident\u001b[0m\u001b[1;33m[\u001b[0m\u001b[1;34m\"shell\"\u001b[0m\u001b[1;33m]\u001b[0m\u001b[1;33m,\u001b[0m\u001b[1;33m\u001b[0m\u001b[1;33m\u001b[0m\u001b[0m\n",
      "\u001b[1;32mc:\\users\\wzh de y7000\\appdata\\local\\programs\\python\\python39\\lib\\site-packages\\ipykernel\\kernelbase.py\u001b[0m in \u001b[0;36m_input_request\u001b[1;34m(self, prompt, ident, parent, password)\u001b[0m\n\u001b[0;32m   1050\u001b[0m             \u001b[1;32mexcept\u001b[0m \u001b[0mKeyboardInterrupt\u001b[0m\u001b[1;33m:\u001b[0m\u001b[1;33m\u001b[0m\u001b[1;33m\u001b[0m\u001b[0m\n\u001b[0;32m   1051\u001b[0m                 \u001b[1;31m# re-raise KeyboardInterrupt, to truncate traceback\u001b[0m\u001b[1;33m\u001b[0m\u001b[1;33m\u001b[0m\u001b[1;33m\u001b[0m\u001b[0m\n\u001b[1;32m-> 1052\u001b[1;33m                 \u001b[1;32mraise\u001b[0m \u001b[0mKeyboardInterrupt\u001b[0m\u001b[1;33m(\u001b[0m\u001b[1;34m\"Interrupted by user\"\u001b[0m\u001b[1;33m)\u001b[0m \u001b[1;32mfrom\u001b[0m \u001b[1;32mNone\u001b[0m\u001b[1;33m\u001b[0m\u001b[1;33m\u001b[0m\u001b[0m\n\u001b[0m\u001b[0;32m   1053\u001b[0m             \u001b[1;32mexcept\u001b[0m \u001b[0mException\u001b[0m\u001b[1;33m:\u001b[0m\u001b[1;33m\u001b[0m\u001b[1;33m\u001b[0m\u001b[0m\n\u001b[0;32m   1054\u001b[0m                 \u001b[0mself\u001b[0m\u001b[1;33m.\u001b[0m\u001b[0mlog\u001b[0m\u001b[1;33m.\u001b[0m\u001b[0mwarning\u001b[0m\u001b[1;33m(\u001b[0m\u001b[1;34m\"Invalid Message:\"\u001b[0m\u001b[1;33m,\u001b[0m \u001b[0mexc_info\u001b[0m\u001b[1;33m=\u001b[0m\u001b[1;32mTrue\u001b[0m\u001b[1;33m)\u001b[0m\u001b[1;33m\u001b[0m\u001b[1;33m\u001b[0m\u001b[0m\n",
      "\u001b[1;31mKeyboardInterrupt\u001b[0m: Interrupted by user"
     ]
    }
   ],
   "source": [
    "\n",
    "#手动评教\n",
    "#手动点击每门课的评价按钮再运行此代码\n",
    "#若是 理论 ，则需将下方\n",
    "for kj in range(10):\n",
    "    dx=driver.find_element_by_xpath('//*[@id=\"lhgfrm\"]') #先使用css选择器、xpath、class name等为对象\n",
    "    driver.switch_to.frame(driver.find_element_by_xpath('//*[@id=\"lhgfrm\"]'))\n",
    "    pp=1\n",
    "    yy=1\n",
    "    for i in range(38):\n",
    "            try:\n",
    "\n",
    "                try:\n",
    "                    #将下面修改\n",
    "                    #daan1 为 理论\n",
    "                    #daan2 为 实践\n",
    "                    driver.find_element_by_xpath(\"/html/body/form/div/table[1]/tbody/tr[\"+str(pp)+\"]/td/input[\"+str(daan1[yy-1])+\"]\").click()\n",
    "                    pp = pp + 1\n",
    "                    yy = yy + 1\n",
    "                except:\n",
    "                    pp = pp + 1\n",
    "            except:\n",
    "                print(\"评完了\")\n",
    "    driver.switch_to.default_content()\n",
    "    sleep(1)\n",
    "    driver.find_element_by_xpath(\"/html/body/div[8]/table/tbody/tr[2]/td[2]/table/tbody/tr[2]/td/div/div[1]/div/input\").click()\n",
    "    sleep(1)\n",
    "    aaaaa=input()\n",
    "#手动点击下一个需要刷的课程的评价按钮 \n",
    "#之后再回车可运行下一次"
   ]
  },
  {
   "cell_type": "code",
   "execution_count": 56,
   "id": "759e57bb",
   "metadata": {},
   "outputs": [],
   "source": [
    "#若多次运行失败，运行此处手动切换主frame\n",
    "driver.switch_to.default_content()"
   ]
  },
  {
   "cell_type": "code",
   "execution_count": null,
   "id": "d51cd46e",
   "metadata": {},
   "outputs": [],
   "source": []
  }
 ],
 "metadata": {
  "kernelspec": {
   "display_name": "Python 3 (ipykernel)",
   "language": "python",
   "name": "python3"
  },
  "language_info": {
   "codemirror_mode": {
    "name": "ipython",
    "version": 3
   },
   "file_extension": ".py",
   "mimetype": "text/x-python",
   "name": "python",
   "nbconvert_exporter": "python",
   "pygments_lexer": "ipython3",
   "version": "3.9.2"
  }
 },
 "nbformat": 4,
 "nbformat_minor": 5
}
